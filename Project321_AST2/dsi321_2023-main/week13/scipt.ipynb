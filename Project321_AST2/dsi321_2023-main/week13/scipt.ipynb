{
 "cells": [
  {
   "cell_type": "code",
   "execution_count": 2,
   "metadata": {},
   "outputs": [],
   "source": [
    "import pandas as pd"
   ]
  },
  {
   "cell_type": "code",
   "execution_count": 3,
   "metadata": {},
   "outputs": [
    {
     "data": {
      "text/plain": [
       "[     1        retrived_at province_id               city   \n",
       " 0    2  5/2/2023 21:15:27       TH-10        Phra Nakhon  \\\n",
       " 1    3  5/2/2023 21:15:58       TH-11          Bang Phli   \n",
       " 2    4  5/2/2023 21:16:29       TH-12  Mueang Nonthaburi   \n",
       " 3    5  5/2/2023 21:17:00       TH-13       Khlong Luang   \n",
       " 4    6  5/2/2023 21:17:31       TH-14          Ayutthaya   \n",
       " ..  ..                ...         ...                ...   \n",
       " 61  63   5/3/2023 2:19:07       TH-16             Ban Mi   \n",
       " 62  64   5/3/2023 2:19:39       TH-20           Na Kluea   \n",
       " 63  65   5/3/2023 2:20:10       TH-21           Ban Khai   \n",
       " 64  66   5/3/2023 2:20:42       TH-50         Chiang Mai   \n",
       " 65  67   5/3/2023 2:21:14       TH-52          Hang Chat   \n",
       " \n",
       "                        state   country  pollution_aqi polution_main   \n",
       " 0                    Bangkok  Thailand             82            p2  \\\n",
       " 1               Samut Prakan  Thailand             57            p2   \n",
       " 2                 Nonthaburi  Thailand             63            p2   \n",
       " 3               Pathum Thani  Thailand             59            p2   \n",
       " 4   Phra Nakhon Si Ayutthaya  Thailand             55            p2   \n",
       " ..                       ...       ...            ...           ...   \n",
       " 61                  Lop Buri  Thailand            108            p2   \n",
       " 62                 Chon Buri  Thailand             59            p2   \n",
       " 63                    Rayong  Thailand             70            p2   \n",
       " 64                Chiang Mai  Thailand             63            p2   \n",
       " 65                   Lampang  Thailand            125            p2   \n",
       " \n",
       "     weather_tp  weather_pr  weather_hu  weather_ws  weather_wd  \n",
       " 0           31        1009          52        5.42         195  \n",
       " 1           30        1008          74        4.12         200  \n",
       " 2           30        1008          68        3.60         170  \n",
       " 3           30        1009          75        3.60         170  \n",
       " 4           28        1009          57        4.25         202  \n",
       " ..         ...         ...         ...         ...         ...  \n",
       " 61          29        1008          74        2.52         202  \n",
       " 62          28        1009          79        3.80         204  \n",
       " 63          28        1010          85        2.09         235  \n",
       " 64          25        1012          73        3.09          50  \n",
       " 65          25        1010          80        0.30          12  \n",
       " \n",
       " [66 rows x 13 columns]]"
      ]
     },
     "execution_count": 3,
     "metadata": {},
     "output_type": "execute_result"
    }
   ],
   "source": [
    "dfs = pd.read_html(\"https://docs.google.com/spreadsheets/d/e/2PACX-1vQlEs3FxFPwm-dpvU1YdsfRgsbfT9WdiXJHZm9kJgGTziPnk-y3TWtftbSbxj6Fe_g0NxYgqyVHTVU5/pubhtml?gid=1397577608&amp;single=true&amp;widget=true&amp;headers=false\", header=1)\n",
    "df=dfs[0]\n",
    "df.drop(['1'], axis =1)\n",
    "dfs"
   ]
  },
  {
   "cell_type": "code",
   "execution_count": null,
   "metadata": {},
   "outputs": [],
   "source": []
  }
 ],
 "metadata": {
  "kernelspec": {
   "display_name": "Python 3",
   "language": "python",
   "name": "python3"
  },
  "language_info": {
   "codemirror_mode": {
    "name": "ipython",
    "version": 3
   },
   "file_extension": ".py",
   "mimetype": "text/x-python",
   "name": "python",
   "nbconvert_exporter": "python",
   "pygments_lexer": "ipython3",
   "version": "3.11.3"
  },
  "orig_nbformat": 4
 },
 "nbformat": 4,
 "nbformat_minor": 2
}
